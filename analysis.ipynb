{
 "cells": [
  {
   "cell_type": "code",
   "execution_count": 138,
   "metadata": {},
   "outputs": [],
   "source": [
    "import pandas as pd\n",
    "import numpy as np\n",
    "import seaborn as sns  \n",
    "import matplotlib.pyplot as plt\n",
    "from sklearn.metrics import roc_auc_score\n",
    "from scipy.stats import pearsonr"
   ]
  },
  {
   "cell_type": "markdown",
   "metadata": {},
   "source": [
    "localId,TalkerId,Type,SubType,IsSender,CreateTime,Status,StrContent,StrTime,Remark,NickName,Sender"
   ]
  },
  {
   "cell_type": "code",
   "execution_count": null,
   "metadata": {},
   "outputs": [],
   "source": [
    "# 从CSV文件中读取数据，并处理时间和昵称信息\n",
    "mydf = pd.read_csv('OPClub_cut.csv')\n",
    "Strtime = mydf.StrTime.tolist()\n",
    "Createtime = mydf.CreateTime.tolist()\n",
    "dic_time = dict(zip(Createtime,Strtime))\n",
    "nicknamelst = mydf.NickName.tolist()\n",
    "dict_name = dict(zip(Createtime,nicknamelst))\n",
    "nickname= list(dict.fromkeys(nicknamelst))  \n",
    "dic_nameint = dict(zip(nickname,range(len(nickname))))\n",
    "dic_intname = dict(zip(range(len(nickname)),nickname))\n",
    "print(nickname)"
   ]
  },
  {
   "cell_type": "code",
   "execution_count": 140,
   "metadata": {},
   "outputs": [],
   "source": [
    "# # 移除'Occupation'列中值为'Engineer'的所有行\n",
    "# filtered_df = mydf[mydf['NickName'] != None]\n",
    "\n",
    "# # 保存修改后的数据\n",
    "# filtered_df.to_csv('OPClub_cut.csv', index=False)"
   ]
  },
  {
   "cell_type": "code",
   "execution_count": 141,
   "metadata": {},
   "outputs": [],
   "source": [
    "# 示例一维数据点  \n",
    "data = Createtime\n",
    "\n",
    "# 设定距离阈值δ   \n",
    "delta = 300\n",
    "\n",
    "# 初始化一个空列表，用于存储聚类结果  \n",
    "clusters = []  \n",
    "current_cluster = []  \n",
    "\n",
    "# 遍历数据点  \n",
    "for i in range(len(data)):  \n",
    "    # 如果current_cluster为空，或者当前点与上一个聚类点的距离小于等于delta  \n",
    "    if current_cluster  == [] or (len(current_cluster) > 0 and abs(data[i] - current_cluster[-1] <= delta)):  \n",
    "        # 添加到当前聚类  \n",
    "        current_cluster.append(data[i])  \n",
    "    else:  \n",
    "        # 否则，保存当前聚类并开始新的聚类  \n",
    "        clusters.append(current_cluster)  \n",
    "        current_cluster = [data[i]]  \n",
    "\n",
    "# 保存最后一个聚类（如果有的话）  \n",
    "if current_cluster:  \n",
    "    clusters.append(current_cluster)"
   ]
  },
  {
   "cell_type": "code",
   "execution_count": null,
   "metadata": {},
   "outputs": [],
   "source": [
    "print((clusters[1]))\n",
    "# 存的是CreateTime"
   ]
  },
  {
   "cell_type": "code",
   "execution_count": 143,
   "metadata": {},
   "outputs": [],
   "source": [
    "timemap = []\n",
    "# 抛弃那些只有一个人说了话的话题\n",
    "for i in clusters:\n",
    "    if len(i)>=2:\n",
    "        timemap.append(i)"
   ]
  },
  {
   "cell_type": "code",
   "execution_count": null,
   "metadata": {},
   "outputs": [],
   "source": [
    "print((timemap[0]))\n",
    "print((timemap[1]))\n",
    "print((timemap[2]))\n",
    "# 存的是CreateTime"
   ]
  },
  {
   "cell_type": "code",
   "execution_count": 145,
   "metadata": {},
   "outputs": [],
   "source": [
    "# 实现每个人的话题参与向量\n",
    "# 描述很多个人在很多个话题中的发言情况时，如果一个人对某个话题说了话则标记为1，没说话则标记为0\n",
    "\n",
    "# 这个列表推导式用于创建一个二维列表 data，其中：\n",
    "# 行数（外层列表的长度）是话题参与者的数量（即 nickname 的长度）。z\n",
    "# 列数（内层列表的长度）是话题的数量（即 timemap 的长度）。i\n",
    "# 初始值都设置为0，表示尚未参与。\n",
    "data = [[0 for i in range(len(timemap))] for z in range(len(nickname))]\n",
    "for k,i in enumerate(timemap):# k 是当前话题的索引（整数），i 是list[CreateTime]\n",
    "    namelst =  [dict_name[q] for q in i]\n",
    "    for p,z in enumerate(nickname):\n",
    "        if z in namelst:\n",
    "            data[p][k]=1"
   ]
  },
  {
   "cell_type": "code",
   "execution_count": null,
   "metadata": {},
   "outputs": [],
   "source": [
    "sub_matrix = [row[0:10] for row in data[0:]]\n",
    "\n",
    "# 打印提取的部分\n",
    "for row in sub_matrix:\n",
    "    print(row)"
   ]
  },
  {
   "cell_type": "code",
   "execution_count": 147,
   "metadata": {},
   "outputs": [],
   "source": [
    "# data1，2都是n×n的矩阵，data1的第i行第j列意味着n个人里面第i个人的话题参与向量预测第j个人的话题参与向量得到的auc值\n",
    "\n",
    "# data2的第i行第j列意味着n个人里面第第i个人参与了的话题，第j个人参与了多少（百分比占比多少）\n",
    "\n",
    "data1=[[0 for i in range(len(nickname))] for j in range(len(nickname))]\n",
    "\n",
    "data2=[[0 for i in range(len(nickname))] for j in range(len(nickname))]\n",
    "\n",
    "for i,j in enumerate(nickname):\n",
    "\n",
    "    for p,q in enumerate(nickname):\n",
    "\n",
    "        data1[i][p] = roc_auc_score(data[i], data[p])\n",
    "\n",
    "        count1 = 0\n",
    "\n",
    "        count2 = 0\n",
    "\n",
    "        for k in range(len(timemap)):\n",
    "\n",
    "            if  data[i][k]==1:\n",
    "\n",
    "                count2+=1\n",
    "\n",
    "            if  data[i][k]==1 and data[p][k]==1:\n",
    "\n",
    "                count1+=1\n",
    "\n",
    "        # data3[i][p] = count1/count2\n",
    "\n",
    "\n",
    "# 也可以用接话程度去描述一个人是不是喜欢另一个人，我把每个话题，谁接这个人话接最多\n",
    "# 那统计出来的矩阵人A和人B对应的值就会+1，最后总体来看谁接这个人话最多\n",
    "\n",
    "# data3 = [[0 for i in range(len(nickname))] for z in range(len(nickname))]\n",
    "\n",
    "# for i in timemap:# 对于每个对话\n",
    "\n",
    "#     namelst = [dict_name[p] for p in i]\n",
    "#     # print(namelst)\n",
    "\n",
    "#     for k in range(len(nickname)):# 对于每个人\n",
    "\n",
    "#         q_lst = [0 for i in range(len(nickname))]# 记录每个人接了多少对话\n",
    "\n",
    "#         for z,j in enumerate(namelst):\n",
    "\n",
    "#             if z == len(i)-1:\n",
    "#                 break\n",
    "\n",
    "#             if j == dic_intname[k]:# 找到了对话中的第k个人\n",
    "#                 q_lst[k]+=1\n",
    "\n",
    "#         print(q_lst)\n",
    "\n",
    "#         # q_lst[k]=0\n",
    "\n",
    "#         for i1,i2 in enumerate(q_lst):\n",
    "\n",
    "#             if i2 == max(q_lst) and max(q_lst) != 0:\n",
    "\n",
    "#                 data3[k][i1]+=1"
   ]
  },
  {
   "cell_type": "code",
   "execution_count": 148,
   "metadata": {},
   "outputs": [],
   "source": [
    "# print(data3[2][4])"
   ]
  },
  {
   "cell_type": "code",
   "execution_count": null,
   "metadata": {},
   "outputs": [],
   "source": [
    "for i in range(len(nickname)):\n",
    "\n",
    "    data1[i][i]=0\n",
    "\n",
    "map = pd.DataFrame(data1)\n",
    "\n",
    "plt.figure(figsize=(8, 8))  \n",
    "\n",
    "plt.rcParams['font.sans-serif'] = ['SimHei']\n",
    "\n",
    "realname = [i for i in nickname]\n",
    "\n",
    "sns.heatmap(map, annot=True, cmap=\"YlGnBu\")  \n",
    "\n",
    "plt.title('OPClub')  \n",
    "\n",
    "plt.xticks(ticks=range(len(nickname)), labels=nickname, rotation=90)  # 旋转90度以便竖着显示\n",
    "\n",
    "plt.yticks(ticks=range(len(nickname)), labels=nickname, rotation=360) \n",
    "\n",
    "plt.xlabel('群友')  \n",
    "\n",
    "plt.ylabel('群友')  \n",
    "\n",
    "plt.show()"
   ]
  }
 ],
 "metadata": {
  "kernelspec": {
   "display_name": "venv",
   "language": "python",
   "name": "python3"
  },
  "language_info": {
   "codemirror_mode": {
    "name": "ipython",
    "version": 3
   },
   "file_extension": ".py",
   "mimetype": "text/x-python",
   "name": "python",
   "nbconvert_exporter": "python",
   "pygments_lexer": "ipython3",
   "version": "3.12.4"
  }
 },
 "nbformat": 4,
 "nbformat_minor": 2
}
